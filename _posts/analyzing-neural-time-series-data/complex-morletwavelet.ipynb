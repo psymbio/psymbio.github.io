{
 "cells": [
  {
   "cell_type": "markdown",
   "id": "3e6f9af4",
   "metadata": {},
   "source": [
    "something is totally wrong\n",
    "\n",
    "following this website now:\n",
    "\n",
    "https://notebook.community/JoseGuzman/myIPythonNotebooks/SignalProcessing/Sine%20waves%20and%20complex%20waves\n",
    "\n",
    "to plot comple sine waves"
   ]
  },
  {
   "cell_type": "code",
   "execution_count": 1,
   "id": "fd5abbc2",
   "metadata": {},
   "outputs": [],
   "source": [
    "import math\n",
    "import numpy as np\n",
    "import matplotlib.pyplot as plt\n",
    "import cmath\n",
    "plt.rcParams[\"figure.figsize\"] = (8,3)"
   ]
  },
  {
   "cell_type": "code",
   "execution_count": null,
   "id": "dd87fed4",
   "metadata": {},
   "outputs": [],
   "source": [
    "def mysine(t, amp, freq, phi):\n",
    "    \"\"\"\n",
    "    Solves the sine wave equation; \n",
    "    \n",
    "    f(t; ) = sin*2*np*freq*t + phi), where\n",
    "    \n",
    "    amp is the wave amplitude,\n",
    "    freq is the wave frequency,\n",
    "    phi is the phase shift,\n",
    "    \n",
    "    and t (time) the independent variable\n",
    "    \n",
    "    \"\"\"\n",
    "    \n",
    "    return amp* np.sin(2*np.pi*freq*t + phi)\n",
    "\n",
    "dt = 1/30000 # sampling interval in sec\n",
    "t = np.arange(0, 1000, dt)\n",
    "\n",
    "myparams1 = dict(amp = 2, freq = 5, phi = np.pi/2)\n",
    "myparams2 = dict(amp = 2, freq = 5, phi = 2*np.pi/2) # ortogonal\n",
    "\n",
    "\n",
    "sinew1 = mysine(t, **myparams1)\n",
    "sinew2 = mysine(t, **myparams2)\n",
    "fig, ax = plt.subplots(1,1, figsize=(16,4))\n",
    "\n",
    "ax.plot(t, sinew1, lw = 2)\n",
    "ax.plot(t, sinew2, color='orange', lw=2)\n",
    "ax.set_ylim(-10,10)\n",
    "ax.text(3, 7.5, '{:2.4f}'.format(np.dot(sinew1, sinew2)), fontsize=15);"
   ]
  },
  {
   "cell_type": "code",
   "execution_count": null,
   "id": "438a7a1f",
   "metadata": {},
   "outputs": [],
   "source": [
    "time = np.linspace(start = -1, stop = 1, num = 12000)\n",
    "fwhm = 0.5\n",
    "gaussian = np.exp((-4 * np.log(2) * (time)**2) / (fwhm**2))\n",
    "\n",
    "\n",
    "morlet_wavelet1 = sinew1 * gaussian\n",
    "morlet_wavelet2 = sinew2 * gaussian\n",
    "\n",
    "fig, ax = plt.subplots(1,1, figsize=(16,4))\n",
    "\n",
    "ax.plot(t, morlet_wavelet1, lw = 2)\n",
    "ax.plot(t, morlet_wavelet2, color='orange', lw=2)\n",
    "ax.set_ylim(-10,10)"
   ]
  },
  {
   "cell_type": "code",
   "execution_count": null,
   "id": "0e591b1c",
   "metadata": {},
   "outputs": [],
   "source": []
  }
 ],
 "metadata": {
  "kernelspec": {
   "display_name": "Python 3",
   "language": "python",
   "name": "python3"
  },
  "language_info": {
   "codemirror_mode": {
    "name": "ipython",
    "version": 3
   },
   "file_extension": ".py",
   "mimetype": "text/x-python",
   "name": "python",
   "nbconvert_exporter": "python",
   "pygments_lexer": "ipython3",
   "version": "3.9.2"
  }
 },
 "nbformat": 4,
 "nbformat_minor": 5
}
