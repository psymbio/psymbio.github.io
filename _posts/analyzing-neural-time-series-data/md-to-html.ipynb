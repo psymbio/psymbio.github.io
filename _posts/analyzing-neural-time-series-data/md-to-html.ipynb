{
 "cells": [
  {
   "cell_type": "code",
   "execution_count": 1,
   "id": "d79eb5ba",
   "metadata": {},
   "outputs": [],
   "source": [
    "figure = \"\"\"<figure><img alt=\"image_alt\" src=\"/images/2021/ants/image_name\" height=\"80%\" width=\"80%\"><figcaption align=\"center\"></figcaption></figure>\"\"\""
   ]
  },
  {
   "cell_type": "code",
   "execution_count": 2,
   "id": "e26b5558",
   "metadata": {},
   "outputs": [],
   "source": [
    "new_file = \"\"\n",
    "with open('morletwavelet-code/morletwavelet-code.md') as topo_file:\n",
    "    for line in topo_file:\n",
    "        if line.startswith(\"![\"):\n",
    "            image_name = line[7:-2]\n",
    "            line = figure.replace(\"image_name\", image_name)\n",
    "            index_of_dot = image_name.index('.')\n",
    "            # line = figure.replace(\"image_alt\", image_name[:index_of_dot])\n",
    "        new_file += line"
   ]
  },
  {
   "cell_type": "code",
   "execution_count": 3,
   "id": "54dfed3a",
   "metadata": {},
   "outputs": [],
   "source": [
    "writing_file = open(\"code.md\", \"w\")\n",
    "writing_file.write(new_file)\n",
    "writing_file.close()"
   ]
  },
  {
   "cell_type": "code",
   "execution_count": null,
   "id": "c800f419",
   "metadata": {},
   "outputs": [],
   "source": []
  }
 ],
 "metadata": {
  "kernelspec": {
   "display_name": "Python 3",
   "language": "python",
   "name": "python3"
  },
  "language_info": {
   "codemirror_mode": {
    "name": "ipython",
    "version": 3
   },
   "file_extension": ".py",
   "mimetype": "text/x-python",
   "name": "python",
   "nbconvert_exporter": "python",
   "pygments_lexer": "ipython3",
   "version": "3.9.2"
  }
 },
 "nbformat": 4,
 "nbformat_minor": 5
}
