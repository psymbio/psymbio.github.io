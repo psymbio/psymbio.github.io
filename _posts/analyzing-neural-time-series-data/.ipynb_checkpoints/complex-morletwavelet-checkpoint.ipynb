{
 "cells": [
  {
   "cell_type": "code",
   "execution_count": 1,
   "id": "fd5abbc2",
   "metadata": {},
   "outputs": [],
   "source": [
    "import math\n",
    "import numpy as np\n",
    "import matplotlib.pyplot as plt\n",
    "import cmath\n",
    "plt.rcParams[\"figure.figsize\"] = (8,3)\n",
    "\n",
    "def plot_signal(x, y, title, x_label = \"Time\", y_label = \"Amplitude\", zoom = \"no\"):\n",
    "    plt.plot(x, y, color = \"#9F0D06\")\n",
    "    plt.title(title)\n",
    "    plt.xlabel(x_label)\n",
    "    plt.ylabel(y_label)\n",
    "    plt.grid(True, which='both')\n",
    "    # plt.axhline(y=0, color='k')\n",
    "    if zoom == \"yes\":\n",
    "        plt.margins(x=0, y=-0.001)\n",
    "        plt.xlim(0,40)\n",
    "    plt.show()"
   ]
  },
  {
   "cell_type": "code",
   "execution_count": 3,
   "id": "84d73b3d",
   "metadata": {},
   "outputs": [],
   "source": [
    "srate = 1000\n",
    "# changed time from [-1,1] to [-2,2] to get a better guassian resolution\n",
    "time = np.linspace(start = -1, stop = 1, num = 1000)\n",
    "freq = 2 * np.pi\n",
    "# using euler's to ceneter the sine at zero (it looks okay)\n",
    "sine_wave = np.cos(complex(0, 1) * 2 * np.pi * freq * time)"
   ]
  },
  {
   "cell_type": "code",
   "execution_count": 4,
   "id": "4213a3f3",
   "metadata": {},
   "outputs": [],
   "source": [
    "fwhm = 0.5\n",
    "gaussian = np.exp((-4 * np.log(2) * (time)**2) / (fwhm**2))"
   ]
  },
  {
   "cell_type": "code",
   "execution_count": 5,
   "id": "f3d04651",
   "metadata": {},
   "outputs": [],
   "source": [
    "morlet_wavelet = sine_wave * gaussian"
   ]
  },
  {
   "cell_type": "code",
   "execution_count": 6,
   "id": "2ccdd94d",
   "metadata": {},
   "outputs": [
    {
     "name": "stderr",
     "output_type": "stream",
     "text": [
      "/home/vanillaskies/anaconda3/envs/mne/lib/python3.9/site-packages/numpy/core/_asarray.py:83: ComplexWarning: Casting complex values to real discards the imaginary part\n",
      "  return array(a, dtype, copy=False, order=order)\n"
     ]
    },
    {
     "data": {
      "image/png": "[encoded data removed]",
      "text/plain": [
       "<Figure size 576x216 with 1 Axes>"
      ]
     },
     "metadata": {
      "needs_background": "light"
     },
     "output_type": "display_data"
    }
   ],
   "source": [
    "plot_signal(time, morlet_wavelet, \"Morlet Wavelet\")"
   ]
  },
  {
   "cell_type": "markdown",
   "id": "3e6f9af4",
   "metadata": {},
   "source": [
    "something is totally wrong\n",
    "\n",
    "following this website now:\n",
    "\n",
    "https://notebook.community/JoseGuzman/myIPythonNotebooks/SignalProcessing/Sine%20waves%20and%20complex%20waves\n",
    "\n",
    "to plot comple sine waves"
   ]
  },
  {
   "cell_type": "code",
   "execution_count": 14,
   "id": "dd87fed4",
   "metadata": {},
   "outputs": [
    {
     "data": {
      "image/png": "[encoded data removed]",
      "text/plain": [
       "<Figure size 1152x288 with 1 Axes>"
      ]
     },
     "metadata": {
      "needs_background": "light"
     },
     "output_type": "display_data"
    }
   ],
   "source": [
    "def mysine(t, amp, freq, phi):\n",
    "    \"\"\"\n",
    "    Solves the sine wave equation; \n",
    "    \n",
    "    f(t; ) = sin*2*np*freq*t + phi), where\n",
    "    \n",
    "    amp is the wave amplitude,\n",
    "    freq is the wave frequency,\n",
    "    phi is the phase shift,\n",
    "    \n",
    "    and t (time) the independent variable\n",
    "    \n",
    "    \"\"\"\n",
    "    \n",
    "    return amp* np.sin(2*np.pi*freq*t + phi)\n",
    "\n",
    "dt = 1/30000 # sampling interval in sec\n",
    "t = np.arange(0, 1000, dt)\n",
    "\n",
    "myparams1 = dict(amp = 2, freq = 5, phi = np.pi/2)\n",
    "myparams2 = dict(amp = 2, freq = 5, phi = 2*np.pi/2) # ortogonal\n",
    "\n",
    "\n",
    "sinew1 = mysine(t, **myparams1)\n",
    "sinew2 = mysine(t, **myparams2)\n",
    "fig, ax = plt.subplots(1,1, figsize=(16,4))\n",
    "\n",
    "ax.plot(t, sinew1, lw = 2)\n",
    "ax.plot(t, sinew2, color='orange', lw=2)\n",
    "ax.set_ylim(-10,10)\n",
    "ax.text(3, 7.5, '{:2.4f}'.format(np.dot(sinew1, sinew2)), fontsize=15);"
   ]
  },
  {
   "cell_type": "code",
   "execution_count": 13,
   "id": "438a7a1f",
   "metadata": {},
   "outputs": [
    {
     "ename": "ValueError",
     "evalue": "operands could not be broadcast together with shapes (120000,) (1000,) ",
     "output_type": "error",
     "traceback": [
      "\u001b[0;31m---------------------------------------------------------------------------\u001b[0m",
      "\u001b[0;31mValueError\u001b[0m                                Traceback (most recent call last)",
      "\u001b[0;32m<ipython-input-13-bb33724f8fa5>\u001b[0m in \u001b[0;36m<module>\u001b[0;34m\u001b[0m\n\u001b[0;32m----> 1\u001b[0;31m \u001b[0mmorlet_wavelet1\u001b[0m \u001b[0;34m=\u001b[0m \u001b[0msinew1\u001b[0m \u001b[0;34m*\u001b[0m \u001b[0mgaussian\u001b[0m\u001b[0;34m\u001b[0m\u001b[0;34m\u001b[0m\u001b[0m\n\u001b[0m\u001b[1;32m      2\u001b[0m \u001b[0mmorlet_wavelet2\u001b[0m \u001b[0;34m=\u001b[0m \u001b[0msinew2\u001b[0m \u001b[0;34m*\u001b[0m \u001b[0mgaussian\u001b[0m\u001b[0;34m\u001b[0m\u001b[0;34m\u001b[0m\u001b[0m\n\u001b[1;32m      3\u001b[0m \u001b[0;34m\u001b[0m\u001b[0m\n\u001b[1;32m      4\u001b[0m \u001b[0mfig\u001b[0m\u001b[0;34m,\u001b[0m \u001b[0max\u001b[0m \u001b[0;34m=\u001b[0m \u001b[0mplt\u001b[0m\u001b[0;34m.\u001b[0m\u001b[0msubplots\u001b[0m\u001b[0;34m(\u001b[0m\u001b[0;36m1\u001b[0m\u001b[0;34m,\u001b[0m\u001b[0;36m1\u001b[0m\u001b[0;34m,\u001b[0m \u001b[0mfigsize\u001b[0m\u001b[0;34m=\u001b[0m\u001b[0;34m(\u001b[0m\u001b[0;36m16\u001b[0m\u001b[0;34m,\u001b[0m\u001b[0;36m4\u001b[0m\u001b[0;34m)\u001b[0m\u001b[0;34m)\u001b[0m\u001b[0;34m\u001b[0m\u001b[0;34m\u001b[0m\u001b[0m\n\u001b[1;32m      5\u001b[0m \u001b[0;34m\u001b[0m\u001b[0m\n",
      "\u001b[0;31mValueError\u001b[0m: operands could not be broadcast together with shapes (120000,) (1000,) "
     ]
    }
   ],
   "source": [
    "morlet_wavelet1 = sinew1 * gaussian\n",
    "morlet_wavelet2 = sinew2 * gaussian\n",
    "\n",
    "fig, ax = plt.subplots(1,1, figsize=(16,4))\n",
    "\n",
    "ax.plot(t, morlet_wavelet1, lw = 2)\n",
    "ax.plot(t, morlet_wavelet2, color='orange', lw=2)\n",
    "ax.set_ylim(-10,10)"
   ]
  },
  {
   "cell_type": "code",
   "execution_count": null,
   "id": "0e591b1c",
   "metadata": {},
   "outputs": [],
   "source": []
  }
 ],
 "metadata": {
  "kernelspec": {
   "display_name": "Python 3",
   "language": "python",
   "name": "python3"
  },
  "language_info": {
   "codemirror_mode": {
    "name": "ipython",
    "version": 3
   },
   "file_extension": ".py",
   "mimetype": "text/x-python",
   "name": "python",
   "nbconvert_exporter": "python",
   "pygments_lexer": "ipython3",
   "version": "3.9.2"
  }
 },
 "nbformat": 4,
 "nbformat_minor": 5
}
